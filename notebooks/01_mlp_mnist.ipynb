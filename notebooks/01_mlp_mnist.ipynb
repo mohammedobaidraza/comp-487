{
  "nbformat": 4,
  "nbformat_minor": 0,
  "metadata": {
    "colab": {
      "provenance": []
    },
    "kernelspec": {
      "name": "python3",
      "display_name": "Python 3"
    },
    "language_info": {
      "name": "python"
    }
  },
  "cells": [
    {
      "cell_type": "markdown",
      "source": [
        "#MLP Classification\n",
        "\n",
        "* Data pipline\n",
        "* Model structure and design\n",
        "* Model Compilation\n",
        "* Training/Testing"
      ],
      "metadata": {
        "id": "ECVvYfBB43SZ"
      }
    },
    {
      "cell_type": "code",
      "execution_count": 1,
      "metadata": {
        "id": "jVNJ953o4xDi"
      },
      "outputs": [],
      "source": [
        "# import the needed modules\n",
        "\n",
        "import tensorflow as tf\n",
        "import numpy as np\n",
        "import pandas as pd \n",
        "import os\n",
        "import seaborn as sns\n",
        "import matplotlib.pyplot as plt\n",
        "%matplotlib inline"
      ]
    },
    {
      "cell_type": "markdown",
      "source": [
        "## Data pipeline\n",
        "\n",
        "* Read and load the data\n",
        "* Understand the data\n",
        "* Remove noise and normalize the data\n",
        "* Define batches\n",
        "* Convert to tensors\n"
      ],
      "metadata": {
        "id": "MKPNFGNk76ho"
      }
    },
    {
      "cell_type": "markdown",
      "source": [
        "\n",
        "### MNIST digits classification dataset\n",
        "\n",
        "This is a dataset of 60,000 28x28 grayscale images of the 10 digits, along with a test set of 10,000 images. More info can be found at the [MNIST homepage](http://yann.lecun.com/exdb/mnist/)."
      ],
      "metadata": {
        "id": "hGwR92U1u1db"
      }
    },
    {
      "cell_type": "code",
      "source": [
        "(x_train, y_train), (x_test, y_test) = tf.keras.datasets.mnist.load_data()\n",
        "assert x_train.shape == (60000, 28, 28)\n",
        "assert x_test.shape == (10000, 28, 28)\n",
        "assert y_train.shape == (60000,)\n",
        "assert y_test.shape == (10000,)"
      ],
      "metadata": {
        "id": "cnGIZwkG7K1j"
      },
      "execution_count": 2,
      "outputs": []
    },
    {
      "cell_type": "markdown",
      "source": [
        "**Have a look at the data!**\n",
        "\n"
      ],
      "metadata": {
        "id": "kMD8vLEluBpN"
      }
    },
    {
      "cell_type": "code",
      "source": [
        "fig, ax = plt.subplots(2,5, figsize=(15, 8))\n",
        "ax = ax.flatten()\n",
        "for i in range(10):\n",
        "    im_idx = np.argwhere(y_train == i)[0]\n",
        "    plottable_image = np.reshape(x_train[im_idx], (28, 28))\n",
        "    ax[i].imshow(plottable_image, cmap='gray_r')"
      ],
      "metadata": {
        "colab": {
          "base_uri": "https://localhost:8080/",
          "height": 432
        },
        "id": "qZ9WXI2B7LxZ",
        "outputId": "ebdf0172-b91d-4efc-d16c-36bf8df14362"
      },
      "execution_count": 3,
      "outputs": [
        {
          "output_type": "display_data",
          "data": {
            "text/plain": [
              "<Figure size 1080x576 with 10 Axes>"
            ],
            "image/png": "[encoded data removed]"
          },
          "metadata": {
            "needs_background": "light"
          }
        }
      ]
    },
    {
      "cell_type": "markdown",
      "source": [
        "### Data Preprocessing"
      ],
      "metadata": {
        "id": "vsclZJLF-eBn"
      }
    },
    {
      "cell_type": "markdown",
      "source": [
        "Convert labels to one-Hot encoding"
      ],
      "metadata": {
        "id": "ZJOwDpu_-vkL"
      }
    },
    {
      "cell_type": "code",
      "source": [
        "# Here we have a class number for each image\n",
        "print(\"Class label of first image :\", y_train[0])\n",
        "\n",
        "# Convert to One-Hot Encoding\n",
        "y_train = tf.keras.utils.to_categorical(y_train, 10) \n",
        "y_test = tf.keras.utils.to_categorical(y_test, 10)\n",
        "\n",
        "print(\"After converting the output into a vector : \",y_train[0])"
      ],
      "metadata": {
        "colab": {
          "base_uri": "https://localhost:8080/"
        },
        "id": "HnIGRbXX-I3h",
        "outputId": "770c34f4-58d0-4b1f-8204-908fcebd182a"
      },
      "execution_count": 4,
      "outputs": [
        {
          "output_type": "stream",
          "name": "stdout",
          "text": [
            "Class label of first image : 5\n",
            "After converting the output into a vector :  [0. 0. 0. 0. 0. 1. 0. 0. 0. 0.]\n"
          ]
        }
      ]
    },
    {
      "cell_type": "markdown",
      "source": [
        "Inspect the image pixel value"
      ],
      "metadata": {
        "id": "xWklJM8m_Jb0"
      }
    },
    {
      "cell_type": "code",
      "source": [
        "x_train[0].min(), x_train[0].max()"
      ],
      "metadata": {
        "colab": {
          "base_uri": "https://localhost:8080/"
        },
        "id": "91oqw9da_Ilp",
        "outputId": "c8fe1df7-698b-4d5a-8b84-6058a0dbfda4"
      },
      "execution_count": 5,
      "outputs": [
        {
          "output_type": "execute_result",
          "data": {
            "text/plain": [
              "(0, 255)"
            ]
          },
          "metadata": {},
          "execution_count": 5
        }
      ]
    },
    {
      "cell_type": "markdown",
      "source": [
        "Normalize the data between `[0,1]`"
      ],
      "metadata": {
        "id": "LbkW54Db_WVZ"
      }
    },
    {
      "cell_type": "code",
      "source": [
        "x_train = x_train/255.0\n",
        "x_test = x_test/255.0\n",
        "\n",
        "x_train[0].min(), x_train[0].max()"
      ],
      "metadata": {
        "colab": {
          "base_uri": "https://localhost:8080/"
        },
        "id": "3IWbqup9_VuX",
        "outputId": "ad5dd07a-e553-4f97-a58f-e41eb8c3ba2d"
      },
      "execution_count": 6,
      "outputs": [
        {
          "output_type": "execute_result",
          "data": {
            "text/plain": [
              "(0.0, 1.0)"
            ]
          },
          "metadata": {},
          "execution_count": 6
        }
      ]
    },
    {
      "cell_type": "markdown",
      "source": [
        "Check the shapes for the data!"
      ],
      "metadata": {
        "id": "kZM7BA0wAIki"
      }
    },
    {
      "cell_type": "code",
      "source": [
        "x_train.shape, x_test.shape, y_train.shape, y_test.shape"
      ],
      "metadata": {
        "colab": {
          "base_uri": "https://localhost:8080/"
        },
        "id": "W-38DLPjALzh",
        "outputId": "748e7fe3-2580-49ac-a923-58c79f66b50f"
      },
      "execution_count": 7,
      "outputs": [
        {
          "output_type": "execute_result",
          "data": {
            "text/plain": [
              "((60000, 28, 28), (10000, 28, 28), (60000, 10), (10000, 10))"
            ]
          },
          "metadata": {},
          "execution_count": 7
        }
      ]
    },
    {
      "cell_type": "markdown",
      "source": [
        "Reshape the images so each image is one vector"
      ],
      "metadata": {
        "id": "NJIvn5SBBCF9"
      }
    },
    {
      "cell_type": "code",
      "source": [
        "x_train = x_train.reshape(-1, 28*28)\n",
        "x_test = x_test.reshape(-1, 28*28)\n",
        "\n",
        "\n",
        "x_train.shape, x_test.shape, y_train.shape, y_test.shape"
      ],
      "metadata": {
        "colab": {
          "base_uri": "https://localhost:8080/"
        },
        "id": "Of2quumrAulm",
        "outputId": "a269bce3-7a58-43ac-a65a-1de52aec81eb"
      },
      "execution_count": 8,
      "outputs": [
        {
          "output_type": "execute_result",
          "data": {
            "text/plain": [
              "((60000, 784), (10000, 784), (60000, 10), (10000, 10))"
            ]
          },
          "metadata": {},
          "execution_count": 8
        }
      ]
    },
    {
      "cell_type": "markdown",
      "source": [
        "\n",
        "### **Building the model**\n",
        "\n",
        "\n",
        "Building the neural network requires configuring the layers of the model, then compiling the model. First we stack a few layers together using `keras.Sequential`. Next we configure the loss function, optimizer, and metrics to monitor. These are added during the model's compile step:\n",
        "\n",
        "* Loss function - measures how accurate the model is during training, we want to minimize this with the optimizer.\n",
        "* Optimizer - how the model is updated based on the data it sees and its loss function.\n",
        "* Metrics - used to monitor the training and testing steps.\n",
        "\n"
      ],
      "metadata": {
        "id": "Mn4kyWdiyjtm"
      }
    },
    {
      "cell_type": "code",
      "source": [
        "#define the optimizer\n",
        "adam_opt = tf.keras.optimizers.Adam(learning_rate=0.01,\n",
        "                                    beta_1=0.9,\n",
        "                                    beta_2=0.999)\n",
        "#define the loss\n",
        "loss_ = tf.keras.losses.CategoricalCrossentropy()\n",
        "\n",
        "#define the number of units per layer\n",
        "feature_size = 784\n",
        "unit_size = 500\n",
        "n_hidden_layers = 0\n",
        "\n",
        "def build_mlp_model(feature_size, n_hidden_layers, unit_size, opt_, loss_):\n",
        "    model = tf.keras.Sequential([\n",
        "        tf.keras.layers.Dense(unit_size, activation=tf.nn.relu, input_shape=(feature_size,))        \n",
        "    ])\n",
        "\n",
        "    for i in range(n_hidden_layers):\n",
        "      model.add(tf.keras.layers.Dense(unit_size, \n",
        "                                      activation=tf.nn.relu,\n",
        "                                      kernel_initializer=tf.keras.initializers.HeUniform(),\n",
        "                                      bias_initializer=tf.keras.initializers.Zeros(),\n",
        "                                      kernel_regularizer=tf.keras.regularizers.L1L2(l1=1e-5, l2=1e-4),\n",
        "                                      bias_regularizer=tf.keras.regularizers.L2(1e-4),\n",
        "                                      ))\n",
        "\n",
        "    model.add(tf.keras.layers.Dense(10))\n",
        "    \n",
        "    model.compile(optimizer=opt_, \n",
        "                  loss=loss_,\n",
        "                  metrics=['accuracy'])\n",
        "    \n",
        "    return model\n",
        "\n",
        "\n",
        "mlp = build_mlp_model(feature_size, n_hidden_layers, unit_size, adam_opt, loss_)\n",
        "\n",
        "mlp.summary()"
      ],
      "metadata": {
        "id": "vj3-Tm9J7Lqc",
        "colab": {
          "base_uri": "https://localhost:8080/"
        },
        "outputId": "0c36d87c-f71a-4d04-9950-78091af1c26a"
      },
      "execution_count": 10,
      "outputs": [
        {
          "output_type": "stream",
          "name": "stdout",
          "text": [
            "Model: \"sequential_1\"\n",
            "_________________________________________________________________\n",
            " Layer (type)                Output Shape              Param #   \n",
            "=================================================================\n",
            " dense_3 (Dense)             (None, 500)               392500    \n",
            "                                                                 \n",
            " dense_4 (Dense)             (None, 10)                5010      \n",
            "                                                                 \n",
            "=================================================================\n",
            "Total params: 397,510\n",
            "Trainable params: 397,510\n",
            "Non-trainable params: 0\n",
            "_________________________________________________________________\n"
          ]
        }
      ]
    },
    {
      "cell_type": "markdown",
      "source": [
        "\n",
        "### **Train the model**\n",
        "\n",
        "\n",
        "Training the neural network model requires the following steps:\n",
        "\n",
        "1. Feed the training data to the model—in this example, the train features and train labels arrays.\n",
        "2. The model learns to associate features and labels.\n",
        "3. We ask the model to make predictions about a test set—in this example, the test_features array. We verify that the predictions match the labels from the test_labels array.\n",
        "\n",
        "\n",
        "\n",
        "To start training, call the `model.fit` method—the model is \"`fit`\" to the training data:\n",
        "\n"
      ],
      "metadata": {
        "id": "Fo9Et_aMzCFR"
      }
    },
    {
      "cell_type": "code",
      "source": [
        "batch_size=128\n",
        "early_stop = tf.keras.callbacks.EarlyStopping(monitor='val_loss', patience=50)\n",
        "history = mlp.fit(x_train, y_train, \n",
        "                    epochs=50, \n",
        "                    verbose=1,\n",
        "                    batch_size=batch_size,\n",
        "                    validation_data = (x_test, y_test),\n",
        "                    callbacks=[early_stop])"
      ],
      "metadata": {
        "colab": {
          "base_uri": "https://localhost:8080/"
        },
        "id": "k8JPmPRhB1iK",
        "outputId": "b5879e84-db36-4994-a489-513fde37d812"
      },
      "execution_count": 11,
      "outputs": [
        {
          "output_type": "stream",
          "name": "stdout",
          "text": [
            "Epoch 1/50\n",
            "469/469 [==============================] - 10s 18ms/step - loss: 9.5836 - accuracy: 0.1769 - val_loss: 9.7144 - val_accuracy: 0.1807\n",
            "Epoch 2/50\n",
            "469/469 [==============================] - 6s 13ms/step - loss: 9.7232 - accuracy: 0.1740 - val_loss: 9.7144 - val_accuracy: 0.1807\n",
            "Epoch 3/50\n",
            "469/469 [==============================] - 7s 16ms/step - loss: 9.7232 - accuracy: 0.1740 - val_loss: 9.7144 - val_accuracy: 0.1807\n",
            "Epoch 4/50\n",
            "469/469 [==============================] - 6s 13ms/step - loss: 9.7232 - accuracy: 0.1740 - val_loss: 9.7144 - val_accuracy: 0.1807\n",
            "Epoch 5/50\n",
            "469/469 [==============================] - 9s 18ms/step - loss: 9.7232 - accuracy: 0.1740 - val_loss: 9.7144 - val_accuracy: 0.1807\n",
            "Epoch 6/50\n",
            "469/469 [==============================] - 6s 13ms/step - loss: 9.7232 - accuracy: 0.1740 - val_loss: 9.7144 - val_accuracy: 0.1807\n",
            "Epoch 7/50\n",
            "469/469 [==============================] - 7s 15ms/step - loss: 9.7232 - accuracy: 0.1740 - val_loss: 9.7144 - val_accuracy: 0.1807\n",
            "Epoch 8/50\n",
            "469/469 [==============================] - 6s 13ms/step - loss: 9.7232 - accuracy: 0.1740 - val_loss: 9.7144 - val_accuracy: 0.1807\n",
            "Epoch 9/50\n",
            "469/469 [==============================] - 8s 16ms/step - loss: 9.7232 - accuracy: 0.1740 - val_loss: 9.7144 - val_accuracy: 0.1807\n",
            "Epoch 10/50\n",
            "469/469 [==============================] - 6s 13ms/step - loss: 9.7232 - accuracy: 0.1740 - val_loss: 9.7144 - val_accuracy: 0.1807\n",
            "Epoch 11/50\n",
            "469/469 [==============================] - 7s 15ms/step - loss: 9.7232 - accuracy: 0.1740 - val_loss: 9.7144 - val_accuracy: 0.1807\n",
            "Epoch 12/50\n",
            "469/469 [==============================] - 6s 12ms/step - loss: 9.7232 - accuracy: 0.1740 - val_loss: 9.7144 - val_accuracy: 0.1807\n",
            "Epoch 13/50\n",
            "469/469 [==============================] - 7s 16ms/step - loss: 9.7232 - accuracy: 0.1740 - val_loss: 9.7144 - val_accuracy: 0.1807\n",
            "Epoch 14/50\n",
            "469/469 [==============================] - 6s 13ms/step - loss: 9.7232 - accuracy: 0.1740 - val_loss: 9.7144 - val_accuracy: 0.1807\n",
            "Epoch 15/50\n",
            "469/469 [==============================] - 7s 16ms/step - loss: 9.7232 - accuracy: 0.1740 - val_loss: 9.7144 - val_accuracy: 0.1807\n",
            "Epoch 16/50\n",
            "469/469 [==============================] - 6s 13ms/step - loss: 9.7232 - accuracy: 0.1740 - val_loss: 9.7144 - val_accuracy: 0.1807\n",
            "Epoch 17/50\n",
            "469/469 [==============================] - 7s 15ms/step - loss: 9.7232 - accuracy: 0.1740 - val_loss: 9.7144 - val_accuracy: 0.1807\n",
            "Epoch 18/50\n",
            "469/469 [==============================] - 6s 13ms/step - loss: 9.7232 - accuracy: 0.1740 - val_loss: 9.7144 - val_accuracy: 0.1807\n",
            "Epoch 19/50\n",
            "469/469 [==============================] - 8s 16ms/step - loss: 9.7232 - accuracy: 0.1740 - val_loss: 9.7144 - val_accuracy: 0.1807\n",
            "Epoch 20/50\n",
            "469/469 [==============================] - 6s 13ms/step - loss: 9.7232 - accuracy: 0.1740 - val_loss: 9.7144 - val_accuracy: 0.1807\n",
            "Epoch 21/50\n",
            "469/469 [==============================] - 7s 15ms/step - loss: 9.7232 - accuracy: 0.1740 - val_loss: 9.7144 - val_accuracy: 0.1807\n",
            "Epoch 22/50\n",
            "469/469 [==============================] - 6s 12ms/step - loss: 9.7232 - accuracy: 0.1740 - val_loss: 9.7144 - val_accuracy: 0.1807\n",
            "Epoch 23/50\n",
            "469/469 [==============================] - 7s 14ms/step - loss: 9.7232 - accuracy: 0.1740 - val_loss: 9.7144 - val_accuracy: 0.1807\n",
            "Epoch 24/50\n",
            "469/469 [==============================] - 6s 13ms/step - loss: 9.7232 - accuracy: 0.1740 - val_loss: 9.7144 - val_accuracy: 0.1807\n",
            "Epoch 25/50\n",
            "469/469 [==============================] - 7s 15ms/step - loss: 9.7232 - accuracy: 0.1740 - val_loss: 9.7144 - val_accuracy: 0.1807\n",
            "Epoch 26/50\n",
            "469/469 [==============================] - 6s 13ms/step - loss: 9.7232 - accuracy: 0.1740 - val_loss: 9.7144 - val_accuracy: 0.1807\n",
            "Epoch 27/50\n",
            "469/469 [==============================] - 7s 15ms/step - loss: 9.7232 - accuracy: 0.1740 - val_loss: 9.7144 - val_accuracy: 0.1807\n",
            "Epoch 28/50\n",
            "469/469 [==============================] - 6s 13ms/step - loss: 9.7232 - accuracy: 0.1740 - val_loss: 9.7144 - val_accuracy: 0.1807\n",
            "Epoch 29/50\n",
            "469/469 [==============================] - 7s 14ms/step - loss: 9.7232 - accuracy: 0.1740 - val_loss: 9.7144 - val_accuracy: 0.1807\n",
            "Epoch 30/50\n",
            "469/469 [==============================] - 6s 13ms/step - loss: 9.7232 - accuracy: 0.1740 - val_loss: 9.7144 - val_accuracy: 0.1807\n",
            "Epoch 31/50\n",
            "469/469 [==============================] - 7s 15ms/step - loss: 9.7232 - accuracy: 0.1740 - val_loss: 9.7144 - val_accuracy: 0.1807\n",
            "Epoch 32/50\n",
            "469/469 [==============================] - 7s 15ms/step - loss: 9.7232 - accuracy: 0.1740 - val_loss: 9.7144 - val_accuracy: 0.1807\n",
            "Epoch 33/50\n",
            "469/469 [==============================] - 6s 13ms/step - loss: 9.7232 - accuracy: 0.1740 - val_loss: 9.7144 - val_accuracy: 0.1807\n",
            "Epoch 34/50\n",
            "469/469 [==============================] - 6s 14ms/step - loss: 9.7232 - accuracy: 0.1740 - val_loss: 9.7144 - val_accuracy: 0.1807\n",
            "Epoch 35/50\n",
            "469/469 [==============================] - 6s 13ms/step - loss: 9.7232 - accuracy: 0.1740 - val_loss: 9.7144 - val_accuracy: 0.1807\n",
            "Epoch 36/50\n",
            "469/469 [==============================] - 7s 14ms/step - loss: 9.7232 - accuracy: 0.1740 - val_loss: 9.7144 - val_accuracy: 0.1807\n",
            "Epoch 37/50\n",
            "469/469 [==============================] - 6s 12ms/step - loss: 9.7232 - accuracy: 0.1740 - val_loss: 9.7144 - val_accuracy: 0.1807\n",
            "Epoch 38/50\n",
            "469/469 [==============================] - 7s 15ms/step - loss: 9.7232 - accuracy: 0.1740 - val_loss: 9.7144 - val_accuracy: 0.1807\n",
            "Epoch 39/50\n",
            "469/469 [==============================] - 6s 12ms/step - loss: 9.7232 - accuracy: 0.1740 - val_loss: 9.7144 - val_accuracy: 0.1807\n",
            "Epoch 40/50\n",
            "469/469 [==============================] - 7s 14ms/step - loss: 9.7232 - accuracy: 0.1740 - val_loss: 9.7144 - val_accuracy: 0.1807\n",
            "Epoch 41/50\n",
            "469/469 [==============================] - 6s 12ms/step - loss: 9.7232 - accuracy: 0.1740 - val_loss: 9.7144 - val_accuracy: 0.1807\n",
            "Epoch 42/50\n",
            "469/469 [==============================] - 7s 15ms/step - loss: 9.7232 - accuracy: 0.1740 - val_loss: 9.7144 - val_accuracy: 0.1807\n",
            "Epoch 43/50\n",
            "469/469 [==============================] - 6s 13ms/step - loss: 9.7232 - accuracy: 0.1740 - val_loss: 9.7144 - val_accuracy: 0.1807\n",
            "Epoch 44/50\n",
            "469/469 [==============================] - 7s 14ms/step - loss: 9.7232 - accuracy: 0.1740 - val_loss: 9.7144 - val_accuracy: 0.1807\n",
            "Epoch 45/50\n",
            "469/469 [==============================] - 6s 13ms/step - loss: 9.7232 - accuracy: 0.1740 - val_loss: 9.7144 - val_accuracy: 0.1807\n",
            "Epoch 46/50\n",
            "469/469 [==============================] - 7s 15ms/step - loss: 9.7232 - accuracy: 0.1740 - val_loss: 9.7144 - val_accuracy: 0.1807\n",
            "Epoch 47/50\n",
            "469/469 [==============================] - 6s 12ms/step - loss: 9.7232 - accuracy: 0.1740 - val_loss: 9.7144 - val_accuracy: 0.1807\n",
            "Epoch 48/50\n",
            "469/469 [==============================] - 8s 16ms/step - loss: 9.7232 - accuracy: 0.1740 - val_loss: 9.7144 - val_accuracy: 0.1807\n",
            "Epoch 49/50\n",
            "469/469 [==============================] - 7s 16ms/step - loss: 9.7232 - accuracy: 0.1740 - val_loss: 9.7144 - val_accuracy: 0.1807\n",
            "Epoch 50/50\n",
            "469/469 [==============================] - 7s 15ms/step - loss: 9.7233 - accuracy: 0.1740 - val_loss: 9.7144 - val_accuracy: 0.1807\n"
          ]
        }
      ]
    },
    {
      "cell_type": "markdown",
      "source": [
        "Let's plot the training and validation error"
      ],
      "metadata": {
        "id": "O9W75-J20sR9"
      }
    },
    {
      "cell_type": "code",
      "source": [
        "hist = pd.DataFrame(history.history)\n",
        "hist['epoch'] = history.epoch\n",
        "\n",
        "hist.head()"
      ],
      "metadata": {
        "colab": {
          "base_uri": "https://localhost:8080/",
          "height": 206
        },
        "id": "yWRk51t4EFem",
        "outputId": "c825fcd0-4967-4412-b639-0c1ae8420046"
      },
      "execution_count": 12,
      "outputs": [
        {
          "output_type": "execute_result",
          "data": {
            "text/plain": [
              "       loss  accuracy  val_loss  val_accuracy  epoch\n",
              "0  9.583633  0.176950  9.714375        0.1807      0\n",
              "1  9.723242  0.174033  9.714375        0.1807      1\n",
              "2  9.723240  0.174033  9.714375        0.1807      2\n",
              "3  9.723239  0.174033  9.714375        0.1807      3\n",
              "4  9.723239  0.174033  9.714375        0.1807      4"
            ],
            "text/html": [
              "\n",
              "  <div id=\"df-57d30925-bcb8-4fb0-834f-e25a4884bcd1\">\n",
              "    <div class=\"colab-df-container\">\n",
              "      <div>\n",
              "<style scoped>\n",
              "    .dataframe tbody tr th:only-of-type {\n",
              "        vertical-align: middle;\n",
              "    }\n",
              "\n",
              "    .dataframe tbody tr th {\n",
              "        vertical-align: top;\n",
              "    }\n",
              "\n",
              "    .dataframe thead th {\n",
              "        text-align: right;\n",
              "    }\n",
              "</style>\n",
              "<table border=\"1\" class=\"dataframe\">\n",
              "  <thead>\n",
              "    <tr style=\"text-align: right;\">\n",
              "      <th></th>\n",
              "      <th>loss</th>\n",
              "      <th>accuracy</th>\n",
              "      <th>val_loss</th>\n",
              "      <th>val_accuracy</th>\n",
              "      <th>epoch</th>\n",
              "    </tr>\n",
              "  </thead>\n",
              "  <tbody>\n",
              "    <tr>\n",
              "      <th>0</th>\n",
              "      <td>9.583633</td>\n",
              "      <td>0.176950</td>\n",
              "      <td>9.714375</td>\n",
              "      <td>0.1807</td>\n",
              "      <td>0</td>\n",
              "    </tr>\n",
              "    <tr>\n",
              "      <th>1</th>\n",
              "      <td>9.723242</td>\n",
              "      <td>0.174033</td>\n",
              "      <td>9.714375</td>\n",
              "      <td>0.1807</td>\n",
              "      <td>1</td>\n",
              "    </tr>\n",
              "    <tr>\n",
              "      <th>2</th>\n",
              "      <td>9.723240</td>\n",
              "      <td>0.174033</td>\n",
              "      <td>9.714375</td>\n",
              "      <td>0.1807</td>\n",
              "      <td>2</td>\n",
              "    </tr>\n",
              "    <tr>\n",
              "      <th>3</th>\n",
              "      <td>9.723239</td>\n",
              "      <td>0.174033</td>\n",
              "      <td>9.714375</td>\n",
              "      <td>0.1807</td>\n",
              "      <td>3</td>\n",
              "    </tr>\n",
              "    <tr>\n",
              "      <th>4</th>\n",
              "      <td>9.723239</td>\n",
              "      <td>0.174033</td>\n",
              "      <td>9.714375</td>\n",
              "      <td>0.1807</td>\n",
              "      <td>4</td>\n",
              "    </tr>\n",
              "  </tbody>\n",
              "</table>\n",
              "</div>\n",
              "      <button class=\"colab-df-convert\" onclick=\"convertToInteractive('df-57d30925-bcb8-4fb0-834f-e25a4884bcd1')\"\n",
              "              title=\"Convert this dataframe to an interactive table.\"\n",
              "              style=\"display:none;\">\n",
              "        \n",
              "  <svg xmlns=\"http://www.w3.org/2000/svg\" height=\"24px\"viewBox=\"0 0 24 24\"\n",
              "       width=\"24px\">\n",
              "    <path d=\"M0 0h24v24H0V0z\" fill=\"none\"/>\n",
              "    <path d=\"M18.56 5.44l.94 2.06.94-2.06 2.06-.94-2.06-.94-.94-2.06-.94 2.06-2.06.94zm-11 1L8.5 8.5l.94-2.06 2.06-.94-2.06-.94L8.5 2.5l-.94 2.06-2.06.94zm10 10l.94 2.06.94-2.06 2.06-.94-2.06-.94-.94-2.06-.94 2.06-2.06.94z\"/><path d=\"M17.41 7.96l-1.37-1.37c-.4-.4-.92-.59-1.43-.59-.52 0-1.04.2-1.43.59L10.3 9.45l-7.72 7.72c-.78.78-.78 2.05 0 2.83L4 21.41c.39.39.9.59 1.41.59.51 0 1.02-.2 1.41-.59l7.78-7.78 2.81-2.81c.8-.78.8-2.07 0-2.86zM5.41 20L4 18.59l7.72-7.72 1.47 1.35L5.41 20z\"/>\n",
              "  </svg>\n",
              "      </button>\n",
              "      \n",
              "  <style>\n",
              "    .colab-df-container {\n",
              "      display:flex;\n",
              "      flex-wrap:wrap;\n",
              "      gap: 12px;\n",
              "    }\n",
              "\n",
              "    .colab-df-convert {\n",
              "      background-color: #E8F0FE;\n",
              "      border: none;\n",
              "      border-radius: 50%;\n",
              "      cursor: pointer;\n",
              "      display: none;\n",
              "      fill: #1967D2;\n",
              "      height: 32px;\n",
              "      padding: 0 0 0 0;\n",
              "      width: 32px;\n",
              "    }\n",
              "\n",
              "    .colab-df-convert:hover {\n",
              "      background-color: #E2EBFA;\n",
              "      box-shadow: 0px 1px 2px rgba(60, 64, 67, 0.3), 0px 1px 3px 1px rgba(60, 64, 67, 0.15);\n",
              "      fill: #174EA6;\n",
              "    }\n",
              "\n",
              "    [theme=dark] .colab-df-convert {\n",
              "      background-color: #3B4455;\n",
              "      fill: #D2E3FC;\n",
              "    }\n",
              "\n",
              "    [theme=dark] .colab-df-convert:hover {\n",
              "      background-color: #434B5C;\n",
              "      box-shadow: 0px 1px 3px 1px rgba(0, 0, 0, 0.15);\n",
              "      filter: drop-shadow(0px 1px 2px rgba(0, 0, 0, 0.3));\n",
              "      fill: #FFFFFF;\n",
              "    }\n",
              "  </style>\n",
              "\n",
              "      <script>\n",
              "        const buttonEl =\n",
              "          document.querySelector('#df-57d30925-bcb8-4fb0-834f-e25a4884bcd1 button.colab-df-convert');\n",
              "        buttonEl.style.display =\n",
              "          google.colab.kernel.accessAllowed ? 'block' : 'none';\n",
              "\n",
              "        async function convertToInteractive(key) {\n",
              "          const element = document.querySelector('#df-57d30925-bcb8-4fb0-834f-e25a4884bcd1');\n",
              "          const dataTable =\n",
              "            await google.colab.kernel.invokeFunction('convertToInteractive',\n",
              "                                                     [key], {});\n",
              "          if (!dataTable) return;\n",
              "\n",
              "          const docLinkHtml = 'Like what you see? Visit the ' +\n",
              "            '<a target=\"_blank\" href=https://colab.research.google.com/notebooks/data_table.ipynb>data table notebook</a>'\n",
              "            + ' to learn more about interactive tables.';\n",
              "          element.innerHTML = '';\n",
              "          dataTable['output_type'] = 'display_data';\n",
              "          await google.colab.output.renderOutput(dataTable, element);\n",
              "          const docLink = document.createElement('div');\n",
              "          docLink.innerHTML = docLinkHtml;\n",
              "          element.appendChild(docLink);\n",
              "        }\n",
              "      </script>\n",
              "    </div>\n",
              "  </div>\n",
              "  "
            ]
          },
          "metadata": {},
          "execution_count": 12
        }
      ]
    },
    {
      "cell_type": "code",
      "source": [
        "\n",
        "def plot_history(hist_):\n",
        "    plt.figure(figsize=(12, 10))\n",
        "    plt.xlabel('Epoch',fontsize=20)\n",
        "    plt.ylabel('Accuracy',fontsize=20)\n",
        "    plt.plot(hist['epoch'], hist['accuracy'], label='Train Error')\n",
        "    plt.plot(hist['epoch'], hist['val_accuracy'], label = 'Val Error')\n",
        "    plt.legend([\"train\", \"validation\"], loc=\"upper left\", prop={'size': 20})\n",
        "\n",
        "\n",
        "plot_history(hist)"
      ],
      "metadata": {
        "colab": {
          "base_uri": "https://localhost:8080/",
          "height": 617
        },
        "id": "kRDLkbBL7LaX",
        "outputId": "6f72846c-cc24-4e50-8092-b4cacc73e458"
      },
      "execution_count": 13,
      "outputs": [
        {
          "output_type": "display_data",
          "data": {
            "text/plain": [
              "<Figure size 864x720 with 1 Axes>"
            ],
            "image/png": "[encoded data removed]"
          },
          "metadata": {
            "needs_background": "light"
          }
        }
      ]
    },
    {
      "cell_type": "markdown",
      "source": [
        "**What would you change?**"
      ],
      "metadata": {
        "id": "6oRGUUFdI9Cz"
      }
    },
    {
      "cell_type": "markdown",
      "source": [
        "\n",
        "\n",
        "\n",
        "---\n",
        "\n",
        "\n",
        "**End of notebook!**\n"
      ],
      "metadata": {
        "id": "uWoOF_MX4JgB"
      }
    }
  ]
}